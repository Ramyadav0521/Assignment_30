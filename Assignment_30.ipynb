{
 "cells": [
  {
   "cell_type": "code",
   "execution_count": 3,
   "id": "c83290cb-ddb7-44d9-a0e1-14ce0db50422",
   "metadata": {},
   "outputs": [],
   "source": [
    "#Write a program to accept percentage from the user and display the grade according to the following Criteria:"
   ]
  },
  {
   "cell_type": "code",
   "execution_count": 9,
   "id": "ca284cf1-ff0c-45d8-8b93-e7c4c8a3f800",
   "metadata": {},
   "outputs": [
    {
     "name": "stdin",
     "output_type": "stream",
     "text": [
      "Enter your marks:- 65\n"
     ]
    },
    {
     "name": "stdout",
     "output_type": "stream",
     "text": [
      "Grade D\n"
     ]
    }
   ],
   "source": [
    "marks= int(input(\"Enter your marks:-\"))\n",
    "if (marks>=90):\n",
    "    print(\"Grade A\")\n",
    "elif(marks>80 and marks<=90):\n",
    "    print(\"Grade B\")\n",
    "elif(marks>70 and marks<=80):\n",
    "    print(\"Grade C\")\n",
    "else:\n",
    "    print(\"Grade D\")"
   ]
  },
  {
   "cell_type": "code",
   "execution_count": null,
   "id": "d21e4af9-86a7-4d28-be50-2d1800b9742e",
   "metadata": {},
   "outputs": [],
   "source": []
  },
  {
   "cell_type": "code",
   "execution_count": 10,
   "id": "ecbee5c3-a65e-4711-9345-d14a164ab60b",
   "metadata": {},
   "outputs": [],
   "source": [
    "#2):- Write a program to accept the cost price of a bike and display the road taxt to be paid according to the following criteria:"
   ]
  },
  {
   "cell_type": "code",
   "execution_count": 3,
   "id": "bca4caec-f350-4c59-89d0-bf79fb245e19",
   "metadata": {},
   "outputs": [
    {
     "name": "stdin",
     "output_type": "stream",
     "text": [
      "Enter your bike price: - 5000\n"
     ]
    },
    {
     "name": "stdout",
     "output_type": "stream",
     "text": [
      "Txt to be paid 250.0\n"
     ]
    }
   ],
   "source": [
    "price = float(input(\"Enter your bike price: -\"))\n",
    "txt =0\n",
    "if(price>100000):\n",
    "    txt= 15/100*price\n",
    "elif(price>50000 and price<=100000):\n",
    "    txt = 10/100*price\n",
    "else:\n",
    "    txt = 5/100*price\n",
    "print(\"Txt to be paid\", txt)\n",
    "\n",
    "    "
   ]
  },
  {
   "cell_type": "code",
   "execution_count": null,
   "id": "ca78e2b4-81d9-455b-82b5-658796bf3bac",
   "metadata": {},
   "outputs": [],
   "source": []
  },
  {
   "cell_type": "code",
   "execution_count": 4,
   "id": "3efb5c1e-133e-4cbc-ad18-473f3f13d7dd",
   "metadata": {},
   "outputs": [],
   "source": [
    "#Accept Any city from the user and display monuments of that city."
   ]
  },
  {
   "cell_type": "code",
   "execution_count": null,
   "id": "da6e3cdd-4d46-4c74-bc28-99c17638760b",
   "metadata": {},
   "outputs": [],
   "source": []
  },
  {
   "cell_type": "code",
   "execution_count": 17,
   "id": "75b142b5-cfae-4001-8f30-64ac1c06793c",
   "metadata": {},
   "outputs": [
    {
     "name": "stdin",
     "output_type": "stream",
     "text": [
      "Enter your city name:  Jaipur\n"
     ]
    },
    {
     "name": "stdout",
     "output_type": "stream",
     "text": [
      "sorry cannot help you \n"
     ]
    }
   ],
   "source": [
    "city = input(\"Enter your city name: \")\n",
    "\n",
    "if(city=='Delhi'):\n",
    "    print(\"Monuments of that city: -- Red Fort\")\n",
    "elif(city=='Agra'):\n",
    "    print(\"Monuments of that city:-- Taj mahal\")\n",
    "elif(city=='jaipur'):\n",
    "    print(\"Monuments of jaipur:--- Jal Mahal\")\n",
    "else:\n",
    "    print(\"sorry cannot help you \")"
   ]
  },
  {
   "cell_type": "code",
   "execution_count": 18,
   "id": "a02209d9-3fcf-4f37-b6b6-f98dd30a176e",
   "metadata": {},
   "outputs": [],
   "source": [
    "#4):-Check know many times a given number can be divided by 3 before it is less than or equal to 10"
   ]
  },
  {
   "cell_type": "code",
   "execution_count": null,
   "id": "6a0bc6bb-6d53-4ee2-8b98-0e0da2026ef0",
   "metadata": {},
   "outputs": [],
   "source": []
  },
  {
   "cell_type": "code",
   "execution_count": null,
   "id": "dd681c60-0e18-4cfa-84e3-08a808235559",
   "metadata": {},
   "outputs": [],
   "source": []
  },
  {
   "cell_type": "code",
   "execution_count": 19,
   "id": "b4e9da3e-1469-4edf-9bc8-f39234d0e9dc",
   "metadata": {},
   "outputs": [],
   "source": [
    "#5):-Why and when to use while loop in python give a detailed description with example"
   ]
  },
  {
   "cell_type": "code",
   "execution_count": 21,
   "id": "3af0abb9-3e0a-4bb6-b49c-89c23dc7c11f",
   "metadata": {},
   "outputs": [
    {
     "name": "stdin",
     "output_type": "stream",
     "text": [
      "Enter a number:-- 10\n"
     ]
    },
    {
     "name": "stdout",
     "output_type": "stream",
     "text": [
      "1\n",
      "2\n",
      "3\n",
      "4\n",
      "5\n",
      "6\n",
      "7\n",
      "8\n",
      "9\n",
      "10\n"
     ]
    }
   ],
   "source": [
    "# # Python while loop is used to run a block code until a certain condition is met.\n",
    "\n",
    "# # The syntax of while loop is:\n",
    "\n",
    "# Here,\n",
    "\n",
    "# A while loop evaluates the condition\n",
    "# If the condition evaluates to True, the code inside the while loop is executed.\n",
    "# condition is evaluated again.\n",
    "# This process continues until the condition is False.\n",
    "# When condition evaluates to False, the loop stops.\n",
    "\n",
    "# program to display numbers from 1 to 5\n",
    "\n",
    "# initialize the variable\n",
    "i = 1\n",
    "n = int(input(\"Enter a number:--\"))\n",
    "\n",
    "# while loop from i = 1 to 5\n",
    "while i <= n:\n",
    "    print(i)\n",
    "    i = i + 1"
   ]
  },
  {
   "cell_type": "code",
   "execution_count": null,
   "id": "9022d134-c2f4-4d0d-a769-51b913bee2ab",
   "metadata": {},
   "outputs": [],
   "source": []
  },
  {
   "cell_type": "code",
   "execution_count": 20,
   "id": "f8caf214-a7a1-47bf-9094-a6b7e85c2836",
   "metadata": {},
   "outputs": [],
   "source": [
    "#6):-Use nested while loop to print 3 different pattern:"
   ]
  },
  {
   "cell_type": "code",
   "execution_count": 10,
   "id": "d410418d-c767-452b-ba91-2a9ca362443f",
   "metadata": {},
   "outputs": [
    {
     "name": "stdout",
     "output_type": "stream",
     "text": [
      "*****\n",
      "****\n",
      "***\n",
      "**\n",
      "*\n"
     ]
    }
   ],
   "source": [
    "# Pattern 1: Right Triangle\n",
    "i = 1\n",
    "while i <= 5:\n",
    "    j = 1\n",
    "    while j <= 6-i:\n",
    "        print(\"*\", end=\"\")\n",
    "        j += 1\n",
    "    print(\"\")\n",
    "    i += 1"
   ]
  },
  {
   "cell_type": "code",
   "execution_count": 11,
   "id": "fdd382e6-2440-4d80-a2ed-1eee9a7d39c4",
   "metadata": {},
   "outputs": [
    {
     "name": "stdin",
     "output_type": "stream",
     "text": [
      "Enter the number of rows:  10\n"
     ]
    },
    {
     "name": "stdout",
     "output_type": "stream",
     "text": [
      "         *\n",
      "        **\n",
      "       ***\n",
      "      ****\n",
      "     *****\n",
      "    ******\n",
      "   *******\n",
      "  ********\n",
      " *********\n",
      "**********\n"
     ]
    }
   ],
   "source": [
    "def pattern(n):\n",
    "   i = 1\n",
    "   while i<=n:\n",
    "      # printing stars\n",
    "      print(\" \"*(n-i) + \"*\" * i)\n",
    "      i+=1 \n",
    " \n",
    "# take inputs\n",
    "n = int(input('Enter the number of rows: '))\n",
    "\n",
    "# calling function\n",
    "pattern(n)"
   ]
  },
  {
   "cell_type": "code",
   "execution_count": 12,
   "id": "ab763490-a6d2-49ba-a558-a506b414d177",
   "metadata": {},
   "outputs": [
    {
     "name": "stdout",
     "output_type": "stream",
     "text": [
      "        * * * * * * \n",
      "         * * * * * \n",
      "          * * * * \n",
      "           * * * \n",
      "            * * \n",
      "             * \n"
     ]
    }
   ],
   "source": [
    "rows = 5\n",
    "k = 2 * rows - 2\n",
    "for i in range(rows, -1, -1):\n",
    "    for j in range(k, 0, -1):\n",
    "        print(end=\" \")\n",
    "    k = k + 1\n",
    "    for j in range(0, i + 1):\n",
    "        print(\"*\", end=\" \")\n",
    "    print(\"\")"
   ]
  },
  {
   "cell_type": "code",
   "execution_count": 13,
   "id": "13e7f1ba-42d9-44ee-a284-92602a03c58d",
   "metadata": {},
   "outputs": [],
   "source": [
    "#Reverse a while loop to display number from 10 to 1."
   ]
  },
  {
   "cell_type": "code",
   "execution_count": 18,
   "id": "07af5c0e-9e4e-46e2-acb0-47158f81cdbc",
   "metadata": {},
   "outputs": [
    {
     "name": "stdout",
     "output_type": "stream",
     "text": [
      "10\n",
      "9\n",
      "8\n",
      "7\n",
      "6\n",
      "5\n",
      "4\n",
      "3\n",
      "2\n",
      "1\n"
     ]
    }
   ],
   "source": [
    "i = 10\n",
    "while i>=1:\n",
    "    print(i)\n",
    "    i = i-1\n"
   ]
  },
  {
   "cell_type": "code",
   "execution_count": null,
   "id": "49aecec8-94c0-4959-b326-023222345aff",
   "metadata": {},
   "outputs": [],
   "source": []
  },
  {
   "cell_type": "code",
   "execution_count": null,
   "id": "e4141656-7bab-447e-bb61-ff6136696f01",
   "metadata": {},
   "outputs": [],
   "source": [
    "#Reverse a while loop to display number from 20 to 1."
   ]
  },
  {
   "cell_type": "code",
   "execution_count": 19,
   "id": "f4b91860-cfdd-439b-bc3e-bb921b428184",
   "metadata": {},
   "outputs": [
    {
     "name": "stdin",
     "output_type": "stream",
     "text": [
      "Enter a number:- 10\n"
     ]
    },
    {
     "name": "stdout",
     "output_type": "stream",
     "text": [
      "10\n",
      "9\n",
      "8\n",
      "7\n",
      "6\n",
      "5\n",
      "4\n",
      "3\n",
      "2\n",
      "1\n"
     ]
    }
   ],
   "source": [
    "i = int(input(\"Enter a number:-\"))\n",
    "while i>=1:\n",
    "    print(i)\n",
    "    i-=1"
   ]
  },
  {
   "cell_type": "code",
   "execution_count": null,
   "id": "a683c2ae-3525-4892-b12c-772e8a2040ba",
   "metadata": {},
   "outputs": [],
   "source": []
  }
 ],
 "metadata": {
  "kernelspec": {
   "display_name": "Python 3 (ipykernel)",
   "language": "python",
   "name": "python3"
  },
  "language_info": {
   "codemirror_mode": {
    "name": "ipython",
    "version": 3
   },
   "file_extension": ".py",
   "mimetype": "text/x-python",
   "name": "python",
   "nbconvert_exporter": "python",
   "pygments_lexer": "ipython3",
   "version": "3.10.8"
  }
 },
 "nbformat": 4,
 "nbformat_minor": 5
}
